{
 "cells": [
  {
   "cell_type": "code",
   "execution_count": 9,
   "id": "7dde963a",
   "metadata": {},
   "outputs": [
    {
     "data": {
      "text/plain": [
       "[[64, 'M'], [128, 'M'], [256, 256, 'M'], [512, 512, 'M'], [512, 512, 'M']]"
      ]
     },
     "execution_count": 9,
     "metadata": {},
     "output_type": "execute_result"
    }
   ],
   "source": [
    "import torch\n",
    "from torch import nn\n",
    "\n",
    "cfg = {\n",
    "    'VGG11': [64, 'M', 128, 'M', 256, 256, 'M', 512, 512, 'M', 512, 512, 'M'],\n",
    "    'VGG13': [64, 64, 'M', 128, 128, 'M', 256, 256, 'M', 512, 512, 'M', 512, 512, 'M'],\n",
    "    'VGG16': [64, 64, 'M', 128, 128, 'M', 256, 256, 256, 'M', 512, 512, 512, 'M', 512, 512, 512, 'M'],\n",
    "    'VGG19': [64, 64, 'M', 128, 128, 'M', 256, 256, 256, 256, 'M', 512, 512, 512, 512, 'M', 512, 512, 512, 512, 'M'],\n",
    "}\n",
    "\n",
    "### MODEL ###\n",
    "class ConvBlock(nn.Module):\n",
    "    def __init__(self, dims, affine=False):\n",
    "        super(ConvBlock, self).__init__()\n",
    "        self.num_conv = len(dims)-1\n",
    "        self.ins = dims[:-1]\n",
    "        self.outs = dims[1:]\n",
    "        \n",
    "        layers = list()\n",
    "        for i in range(self.num_conv):\n",
    "            layers += [nn.Conv2d(self.ins[i], self.outs[i], 3, stride=1, padding=1),\n",
    "                            nn.GELU(),\n",
    "                            nn.BatchNorm2d(self.outs[i], affine=affine)]\n",
    "        layers += [nn.MaxPool2d(2, stride=2)]\n",
    "        self.layers = nn.Sequential(*layers)\n",
    "    def forward(self, x):\n",
    "        return self.layers(x)\n",
    "\n",
    "def read_cfg(cfg):\n",
    "    temp = list()\n",
    "    tempa = list()\n",
    "    for i in range(len(cfg)-1):        \n",
    "        if cfg[i+1] == 'M':\n",
    "            temp.append([i, \"M\"])\n",
    "            tempa = list()\n",
    "        else:\n",
    "            temp.append([i])\n",
    "            tempa = list()\n",
    "    return temp\n",
    "\n",
    "read_cfg(cfg[\"VGG11\"])"
   ]
  },
  {
   "cell_type": "code",
   "execution_count": null,
   "id": "7138999c",
   "metadata": {},
   "outputs": [],
   "source": []
  },
  {
   "cell_type": "code",
   "execution_count": null,
   "id": "2b0b5179",
   "metadata": {},
   "outputs": [],
   "source": [
    "\n",
    "    \n",
    "class VGG(nn.Module):\n",
    "    def __init__(self, args):\n",
    "        super(VGG, self).__init__()\n",
    "        self.bn_affine = True if args.bn_affine == 1 else False\n",
    "              \n",
    "        if args.dataset == \"cifar\":\n",
    "            self.units = cfg[\"VGG\"]\n",
    "            self.output_layer  = nn.Linear(self.units[-1][-1], 10)\n",
    "            self.size = (args.batchsize, 3, 32, 32)\n",
    "            \n",
    "        self.module_list = nn.ModuleList( [ConvBlock(unit, affine=self.bn_affine) for unit in (self.units)])\n",
    "                \n",
    "        self.f3 = nn.Dropout(p=0.2)\n",
    "        self.act2 = nn.ReLU()\n",
    "        self.AP = torch.nn.AvgPool2d(2, stride=1)\n",
    "        \n",
    "    def forward(self, data):\n",
    "        x = data.view(self.size)\n",
    "        output = []\n",
    "        for module in self.module_list:\n",
    "            x_ = module(x.detach())\n",
    "            x = module(x)\n",
    "            output.append(x_)\n",
    "        x = torch.flatten(x, 1)\n",
    "        x = self.f3(x)\n",
    "        x_ = self.act2(self.output_layer(x.detach()))\n",
    "        x = self.act2(self.output_layer(x))\n",
    "        output.append(x_)\n",
    "        return x, output\n",
    "    \n",
    "# net = VGG('VGG11')\n",
    "# x = torch.randn(2,3,32,32)\n",
    "# y = net(x)\n",
    "# print(y.size())"
   ]
  }
 ],
 "metadata": {
  "kernelspec": {
   "display_name": "PT17",
   "language": "python",
   "name": "pt17"
  },
  "language_info": {
   "codemirror_mode": {
    "name": "ipython",
    "version": 3
   },
   "file_extension": ".py",
   "mimetype": "text/x-python",
   "name": "python",
   "nbconvert_exporter": "python",
   "pygments_lexer": "ipython3",
   "version": "3.7.10"
  }
 },
 "nbformat": 4,
 "nbformat_minor": 5
}
